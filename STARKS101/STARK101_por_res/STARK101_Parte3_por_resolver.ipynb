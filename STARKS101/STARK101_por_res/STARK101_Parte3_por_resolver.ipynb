{
 "cells": [
  {
   "cell_type": "markdown",
   "metadata": {},
   "source": [
    "*Copyright 2019 StarkWare Industries Ltd.<br> Licensed under the Apache License, Version 2.0 (the \"License\"). You may not use this file except in compliance with the License. You may obtain a copy of the License at https://www.starkware.co/open-source-license/ <br> Unless required by applicable law or agreed to in writing, software distributed under the License is distributed on an \"AS IS\" BASIS, WITHOUT WARRANTIES OR CONDITIONS OF ANY KIND, either express or implied. See the License for the specific language governing permissions and limitations under the License.*"
   ]
  },
  {
   "cell_type": "markdown",
   "metadata": {},
   "source": [
    "# Parte 3: Compromisos FRI (FRI Commitments)"
   ]
  },
  {
   "cell_type": "markdown",
   "metadata": {
    "tags": []
   },
   "source": [
    "\n",
    "### Cargue la sesión anterior\n",
    "Ejecute la siguiente celda para cargar las variables relevantes. Como es habitual, tardará un poco en ejecutarse."
   ]
  },
  {
   "cell_type": "code",
   "execution_count": null,
   "metadata": {},
   "outputs": [],
   "source": [
    "from channel import Channel\n",
    "from field import FieldElement\n",
    "from merkle import MerkleTree\n",
    "from polynomial import interpolate_poly, Polynomial\n",
    "from tutorial_sessions import part1, part2\n",
    "\n",
    "cp, cp_eval, cp_merkle, channel, eval_domain = part2()\n",
    "print(\"Éxito\")"
   ]
  },
  {
   "cell_type": "markdown",
   "metadata": {},
   "source": [
    "## Plegado FRI (FRI Folding)\n",
    "\n",
    "Nuestro objetivo en esta parte es construir las capas FRI y comprometernos con ellas. \n",
    "<br>Para obtener cada capa necesitamos:\n",
    "1. Generar un dominio para la capa (a partir del dominio de la capa anterior).\n",
    "2. Generar un polinomio para la capa (a partir del polinomio y dominio de la capa anterior)\n",
    "3. Evaluar dicho polinomio en dicho dominio - **esta es la siguiente capa FRI**."
   ]
  },
  {
   "cell_type": "markdown",
   "metadata": {},
   "source": [
    "### Generación de dominios\n",
    "\n",
    "El primer dominio FRI es simplemente el `eval_domain` que ya se generó en la Parte 1, es decir, un coset de un grupo de orden 8192. Cada dominio FRI posterior se obtiene tomando la primera mitad del dominio FRI anterior (abandonando la segunda mitad), y elevando al cuadrado cada uno de sus elementos.<br>\n",
    "\n",
    "Formalmente - obtuvimos `eval_domain` tomando:<br>\n",
    "$$w, w\\cdot h, w\\cdot h^2, ..., w\\cdot h^{8191}$$\n",
    "\n",
    "Por lo tanto, la siguiente capa será:<br>\n",
    "$$w^2, (w\\cdot h)^2, (w\\cdot h^2)^2, ..., (w\\cdot h^{4095})^2$$"
   ]
  },
  {
   "cell_type": "markdown",
   "metadata": {},
   "source": [
    "Obsérvese que tomando los cuadrados de la segunda mitad de cada elemento en `eval_domain` produce exactamente\n",
    "el mismo resultado que tomar los cuadrados de la primera mitad. Lo mismo ocurre con las capas siguientes.\n",
    "Por ejemplo:"
   ]
  },
  {
   "cell_type": "code",
   "execution_count": null,
   "metadata": {},
   "outputs": [],
   "source": [
    "print(eval_domain[100] ** 2)\n",
    "half_domain_size = len(eval_domain) // 2\n",
    "print(eval_domain[half_domain_size + 100] ** 2)"
   ]
  },
  {
   "cell_type": "markdown",
   "metadata": {},
   "source": [
    "De forma similar, el dominio de la tercera capa será:<br>\n",
    "$$w^4, (w\\cdot h)^4, (w\\cdot h^2)^4, ..., (w\\cdot h^{2047})^4$$\n",
    "\n",
    "Y así sucesivamente."
   ]
  },
  {
   "cell_type": "markdown",
   "metadata": {},
   "source": [
    "Escribe una función `next_fri_domain` que tome el dominio anterior como argumento, y emita el siguiente."
   ]
  },
  {
   "cell_type": "code",
   "execution_count": null,
   "metadata": {},
   "outputs": [],
   "source": [
    "def next_fri_domain(fri_domain):\n",
    "    # Arregla esto.\n",
    "    return [x for x in fri_domain[:len(fri_domain) // 2]]"
   ]
  },
  {
   "cell_type": "markdown",
   "metadata": {},
   "source": [
    "Ejecute la prueba: "
   ]
  },
  {
   "cell_type": "code",
   "execution_count": null,
   "metadata": {},
   "outputs": [],
   "source": [
    "# Prueba usando un hash previamente calculado.\n",
    "from hashlib import sha256\n",
    "next_domain = next_fri_domain(eval_domain)\n",
    "assert '5446c90d6ed23ea961513d4ae38fc6585f6614a3d392cb087e837754bfd32797' == sha256(','.join([str(i) for i in next_domain]).encode()).hexdigest()\n",
    "print('Éxito!')"
   ]
  },
  {
   "cell_type": "markdown",
   "metadata": {},
   "source": [
    "### Operador de Plegado FRI (FRI Folding Operator)\n",
    "El primer polinomio FRI es simplemente el polinomio de composición, es decir, `cp`.<br>\n",
    "Cada polinomio FRI posterior se obtiene mediante:\n",
    "1. Obtener un elemento aleatorio del field $\\beta$ (llamando a `Channel.receive_random_field_element`).\n",
    "2. Multiplicando los coeficientes impares del polinomio anterior por $\\beta$.\n",
    "3. Haciendo la suma de pares consecutivos (pares-impares) de coeficientes.\n",
    "\n",
    "Formalmente, digamos que el polinomio k-ésimo es de grado $< m$ (para algún $m$ que es una potencia de 2):\n",
    "\n",
    "$$p_{k}(x) := \\sum _{i=0} ^{m-1} c_i x^i$$\n",
    "\n",
    "\n",
    "Entonces el (k+1)-ésimo polinomio, cuyo grado es $< \\frac m 2 $ será:\n",
    "\n",
    "$$p_{k+1}(x) := \\sum _{i=0} ^{  m / 2 - 1 } (c_{2i} + \\beta \\cdot c_{2i + 1}) x^i$$"
   ]
  },
  {
   "cell_type": "markdown",
   "metadata": {},
   "source": [
    "Escribe una función `next_fri_polynomial` que toma como argumentos un polinomio y un elemento del field (al que nos referíamos como $\\beta$), y retorna el siguiente polinomio \"plegado\".\n",
    "\n",
    "Tenga en cuenta que:\n",
    "1. `Polynomial.poly` contiene una lista de los coeficientes de un polinomio, el término independiente primero, y el de mayor grado en último lugar, entonces `p.poly[i] == u` si el coeficiente de $x^i$ es $u$.*\n",
    "2. El constructor por defecto de `Polynomial`'s  toma la lista de coeficientes como argumento. Así, un polinomio puede instanciarse a partir de una lista de coeficientes `l` llamando a `Polynomial(l)`.\n"
   ]
  },
  {
   "cell_type": "code",
   "execution_count": null,
   "metadata": {},
   "outputs": [],
   "source": [
    "def next_fri_polynomial(poly, beta):\n",
    "    odd_coefficients = poly.poly[1::2] # No es necesario corregir esta línea.\n",
    "    even_coefficients = poly.poly[::2] # Tampoco es necesario arreglar esta línea.\n",
    "    odd = 'TU_CÓDIGO_AQUÍ'\n",
    "    even = 'TU_CÓDIGO_AQUÍ'\n",
    "    return 'TU_CÓDIGO_AQUÍ'"
   ]
  },
  {
   "cell_type": "markdown",
   "metadata": {},
   "source": [
    "Ejecute la prueba:"
   ]
  },
  {
   "cell_type": "code",
   "execution_count": null,
   "metadata": {},
   "outputs": [],
   "source": [
    "next_p = next_fri_polynomial(cp, FieldElement(987654321))\n",
    "assert '6bff4c35e1aa9693f9ceb1599b6a484d7636612be65990e726e52a32452c2154' == sha256(','.join([str(i) for i in next_p.poly]).encode()).hexdigest()\n",
    "print('Éxito!')"
   ]
  },
  {
   "cell_type": "markdown",
   "metadata": {},
   "source": [
    "### Juntándolo todo para conseguir la siguiente capa FRI\n",
    "\n",
    "Escribe una función `next_fri_layer` que tome un polinomio, un dominio y un elemento de field (de nuevo - $\\beta$), y retorne el siguiente polinomio, el siguiente dominio, y la evaluación de este siguiente polinomio en este siguiente dominio."
   ]
  },
  {
   "cell_type": "code",
   "execution_count": null,
   "metadata": {},
   "outputs": [],
   "source": [
    "def next_fri_layer(poly, domain, beta):\n",
    "    next_poly = 'TU_CÓDIGO_AQUÍ'\n",
    "    next_domain = 'TU_CÓDIGO_AQUÍ'\n",
    "    next_layer = 'TU_CÓDIGO_AQUÍ'\n",
    "    return next_poly, next_domain, next_layer"
   ]
  },
  {
   "cell_type": "markdown",
   "metadata": {},
   "source": [
    "Ejecute la prueba:"
   ]
  },
  {
   "cell_type": "code",
   "execution_count": null,
   "metadata": {},
   "outputs": [],
   "source": [
    "test_poly = Polynomial([FieldElement(2), FieldElement(3), FieldElement(0), FieldElement(1)])\n",
    "test_domain = [FieldElement(3), FieldElement(5)]\n",
    "beta = FieldElement(7)\n",
    "next_p, next_d, next_l = next_fri_layer(test_poly, test_domain, beta)\n",
    "assert next_p.poly == [FieldElement(23), FieldElement(7)]\n",
    "assert next_d == [FieldElement(9)]\n",
    "assert next_l == [FieldElement(86)]\n",
    "print('Éxito!')"
   ]
  },
  {
   "cell_type": "markdown",
   "metadata": {},
   "source": [
    "## Generando Compromisos FRI (FRI Commitments)\n",
    "\n",
    "Hemos desarrollado las herramientas para escribir el método `FriCommit`, que contiene el bucle principal de compromiso FRI.<br>\n",
    "\n",
    "Toma los siguientes 5 argumentos:\n",
    "1. El polinomio de composición, que también es el primer polinomio FRI, es decir, `cp`.\n",
    "2. El coset de orden 8192 que es también el primer dominio FRI, es decir, `eval_domain`.\n",
    "3. La evaluación de lo primero sobre lo segundo, que también es la primera capa FRI, es decir, `cp_eval`.\n",
    "4. El primer árbol de Merkle (tendremos uno para cada capa FRI) construido a partir de estas evaluaciones, es decir, `cp_merkle`.\n",
    "5. Un channel object, es decir, `channel`.\n",
    "\n",
    "El método retorna 4 listas:\n",
    "1. Los polinomios FRI.\n",
    "2. Los dominios FRI.\n",
    "3. Las capas FRI.\n",
    "4. Los árboles Merkle FRI.\n",
    "\n",
    "El método contiene un bucle, en cada iteración ampliamos estas cuatro listas, utilizando el último elemento de cada una de ellas.\n",
    "La iteración debe detenerse una vez que el último polinomio FRI sea de grado 0, es decir, cuando el último polinomio FRI sea sólo una constante. Entonces debe enviar por el channel esta constante (es decir, el término independiente).\n",
    "La clase `Channel` sólo admite el envío de cadenas, así que asegúrate de convertir todo lo que desees enviar a través del channel a una cadena antes de enviarlo."
   ]
  },
  {
   "cell_type": "code",
   "execution_count": null,
   "metadata": {},
   "outputs": [],
   "source": [
    "# Arregla esto según las instrucciones (las líneas sin comentarios específicos están bien).\n",
    "def FriCommit(cp, domain, cp_eval, cp_merkle, channel):\n",
    "    fri_polys = [cp]\n",
    "    fri_domains = [domain]\n",
    "    fri_layers = [cp_eval]\n",
    "    fri_merkles = [cp_merkle]\n",
    "    while 'TU_CÓDIGO_AQUÍ': # Sustituye esto por la condición de parada correcta.\n",
    "        beta = 'TU_CÓDIGO_AQUÍ' # Cambie para obtener un elemento aleatorio del channel.\n",
    "        next_poly, next_domain, next_layer = 'YOUR_CODE_HERE' # Arregle para obtener el siguiente polinomio FRI, dominio y capa.\n",
    "        fri_polys.append(next_poly)\n",
    "        fri_domains.append(next_domain)\n",
    "        fri_layers.append(next_layer)\n",
    "        fri_merkles.append('TU_CÓDIGO_AQUÍ') # Arregle para construir el árbol de Merkle correcto.\n",
    "        channel.send('TU_CÓDIGO_AQUÍ') # Arregle para enviar el compromiso (commitment) correcto.\n",
    "    channel.send('TU_CÓDIGO_AQUÍ') # Arregle para enviar el término independiente de la última capa.\n",
    "    return fri_polys, fri_domains, fri_layers, fri_merkles"
   ]
  },
  {
   "cell_type": "markdown",
   "metadata": {},
   "source": [
    "Ejecute la prueba:"
   ]
  },
  {
   "cell_type": "code",
   "execution_count": null,
   "metadata": {},
   "outputs": [],
   "source": [
    "test_channel = Channel()\n",
    "fri_polys, fri_domains, fri_layers, fri_merkles = FriCommit(cp, eval_domain, cp_eval, cp_merkle, test_channel)\n",
    "assert len(fri_layers) == 11, f'El número esperado de capas FRI es 11, mientras que en realidad es {len(fri_layers)}.'\n",
    "assert len(fri_layers[-1]) == 8, f'Se espera que la última capa contenga exactamente 8 elementos, contiene {len(fri_layers[-1])}.'\n",
    "assert all([x == FieldElement(-1138734538) for x in fri_layers[-1]]), f'Se espera que la última capa sea constante.'\n",
    "assert fri_polys[-1].degree() == 0, 'Se espera que el último polinomio sea constante (grado 0).'\n",
    "assert fri_merkles[-1].root == '1c033312a4df82248bda518b319479c22ea87bd6e15a150db400eeff653ee2ee', 'La raíz de Merkle de la última capa es incorrecta.'\n",
    "assert test_channel.state == '61452c72d8f4279b86fa49e9fb0fdef0246b396a4230a2bfb24e2d5d6bf79c2e', 'El estado del channel no es el esperado.'\n",
    "print('Éxito!')"
   ]
  },
  {
   "cell_type": "markdown",
   "metadata": {},
   "source": [
    "Corre la siguiente celda para ejecutar la función con tu channel object e imprimir la prueba hasta el momento:"
   ]
  },
  {
   "cell_type": "code",
   "execution_count": null,
   "metadata": {},
   "outputs": [],
   "source": [
    "fri_polys, fri_domains, fri_layers, fri_merkles = FriCommit(cp, eval_domain, cp_eval, cp_merkle, channel)\n",
    "print(channel.proof) "
   ]
  }
 ],
 "metadata": {
  "kernelspec": {
   "display_name": "Python 3 (ipykernel)",
   "language": "python",
   "name": "python3"
  },
  "language_info": {
   "codemirror_mode": {
    "name": "ipython",
    "version": 3
   },
   "file_extension": ".py",
   "mimetype": "text/x-python",
   "name": "python",
   "nbconvert_exporter": "python",
   "pygments_lexer": "ipython3",
   "version": "3.8.10"
  }
 },
 "nbformat": 4,
 "nbformat_minor": 4
}
