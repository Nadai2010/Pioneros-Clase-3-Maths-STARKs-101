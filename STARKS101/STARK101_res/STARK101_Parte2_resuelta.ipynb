{
 "cells": [
  {
   "cell_type": "markdown",
   "metadata": {},
   "source": [
    "*Copyright 2019 StarkWare Industries Ltd.<br> Licensed under the Apache License, Version 2.0 (the \"License\"). You may not use this file except in compliance with the License. You may obtain a copy of the License at https://www.starkware.co/open-source-license/ <br> Unless required by applicable law or agreed to in writing, software distributed under the License is distributed on an \"AS IS\" BASIS, WITHOUT WARRANTIES OR CONDITIONS OF ANY KIND, either express or implied. See the License for the specific language governing permissions and limitations under the License.*"
   ]
  },
  {
   "cell_type": "markdown",
   "metadata": {},
   "source": [
    "# Parte 2: Restricciones\n",
    "En esta parte, vamos a crear un conjunto de restricciones sobre la traza `a`. <br>Se emplean elementos de la traza para crear algunas expresiones, que serán polinomios (en lugar de [funciones racionales](https://en.wikipedia.org/wiki/Rational_function)) si y sólo si la traza representa un cálculo válido de la secuencia de los Cuadrados de Fibonacci. <br>\n",
    "<br>\n",
    "Lo conseguiremos en tres pasos:\n",
    "1. Empecemos especificando las restricciones que nos interesan (las **restricciones de la secuencia de los Cuadrados de Fibonacci**).\n",
    "2. Traducimos dichas restricciones a **restricciones polinómicas**.\n",
    "3. Las traduciremos a **funciones racionales** que representan polinomios si y sólo si se cumplen las restricciones originales."
   ]
  },
  {
   "cell_type": "markdown",
   "metadata": {},
   "source": [
    "## Paso 1 - Restricciones de la secuencia de los Cuadrados de Fibonacci\n",
    "Para que `a` sea una traza correcta de una secuencia de los Cuadrados de Fibonacci que demuestre nuestra afirmación:\n",
    "1. El primer elemento tiene que ser 1, es decir $a[0] = 1$.\n",
    "2. El último elemento tiene que ser 2338775057, es decir $a[1022] = 2338775057$.\n",
    "3. La regla de los Cuadrados de Fibonacci debe aplicarse, es decir - para cada $i<1021$, $a[i+2]=a[i+1]^2+a[i]^2$."
   ]
  },
  {
   "cell_type": "markdown",
   "metadata": {},
   "source": [
    "## Paso 2 - Restricciones polinómicas\n",
    "Recordemos que `f` es un polinomio sobre el dominio de la traza, que evalúa exactamente a `a` sobre $G \\setminus \\{g^{1023}\\}$ donde $G=\\{g^i : 0\\leq i\\leq 1023\\}$ es el grupo \"pequeño\" generado por $g$.<br>\n",
    "\n",
    "Ahora reescribimos las tres restricciones anteriores en forma de restricciones polinómicas sobre `f`:\n",
    "1. $a[0] = 1$ se traduce al polinomio $f(x) - 1$, que evalúa a 0 para $x = g^0$ (note que $g^0$ es $1$). <br>\n",
    "2. $a[1022] = 2338775057$ se traduce al polinomio $f(x) - 2338775057$, que evalúa a 0 para $x = g^{1022}$. <br>\n",
    "3. $a[i+2]=a[i+1]^2+a[i]^2$ para cada $i<1021$ se traduce al polinomio $f(g^2 \\cdot x) - (f(g \\cdot x))^2 - (f(x))^2$, que evalúa a 0 para $x \\in G \\backslash \\{g^{1021}, g^{1022}, g^{1023}\\}$. <br><br>"
   ]
  },
  {
   "cell_type": "markdown",
   "metadata": {},
   "source": [
    "### Manos a la obra\n",
    "En primer lugar, como este es un cuaderno separado de la Parte 1, vamos a ejecutar la siguiente pieza de código para tener todas las variables aquí con sus valores correctos. Tenga en cuenta que puede tardar hasta 30 segundos, ya que vuelve a ejecutar la interpolación polinómica."
   ]
  },
  {
   "cell_type": "code",
   "execution_count": null,
   "metadata": {},
   "outputs": [],
   "source": [
    "from channel import Channel\n",
    "from field import FieldElement\n",
    "from merkle import MerkleTree\n",
    "from polynomial import interpolate_poly, X, prod\n",
    "from tutorial_sessions import part1\n",
    "\n",
    "a, g, G, h, H, eval_domain, f, f_eval, f_merkle, channel = part1()\n",
    "print('Éxito!')"
   ]
  },
  {
   "cell_type": "markdown",
   "metadata": {},
   "source": [
    "Obtendrás cada una de las tres restricciones como un cociente de dos polinomios, asegurándote de que el resto es cero. \n",
    "<br><br>"
   ]
  },
  {
   "cell_type": "markdown",
   "metadata": {},
   "source": [
    "## Paso 3 - Funciones Racionales (que son, de hecho, Polinomios)\n",
    "\n",
    "Cada una de las restricciones anteriores se representa mediante un polinomio $u(x)$ que supuestamente se evalúa como $0$ sobre determinados elementos del grupo $G$. Es decir, para algunos $x_0, \\ldots, x_k \\in G$, afirmamos que\n",
    "\n",
    "$$u(x_0) = \\ldots = u(x_k) = 0$$\n",
    "\n",
    "(nótese que para las dos primeras restricciones, $k=0$ porque sólo se refieren a un punto y para el tercero $k=1021$).\n",
    "\n",
    "Esto equivale a decir que $u(x)$ es divisible, como polinomio, por todos los valores de $\\{(x-x_i)\\}_{i=0}^k$, o, equivalentemente, por\n",
    "\n",
    "$$\\prod_{i=0}^k (x-x_i)$$\n",
    "\n",
    "Por lo tanto, cada una de las tres restricciones anteriores puede escribirse como una función racional de la forma:\n",
    "\n",
    "$$\\frac{u(x)}{\\prod_{i=0}^k (x-x_i)}$$\n",
    "\n",
    "para el correspondiente $u(x)$ y $\\{x_i\\}_{i=0}^k$. En este paso construiremos estas tres funciones racionales y demostraremos que efectivamente son polinomios."
   ]
  },
  {
   "cell_type": "markdown",
   "metadata": {},
   "source": [
    "## La Primera Restricción:\n",
    "\n",
    "En la primera restricción, $f(x) - 1$ y $\\{x_i\\} = \\{1\\}$.\n",
    "\n",
    "Ahora construiremos el **polinomio** $p_0(x)=\\frac{f(x) - 1}{x - 1}$, asegurándonos de que $f(x) - 1$ es divisible por $(x-1)$."
   ]
  },
  {
   "cell_type": "code",
   "execution_count": null,
   "metadata": {},
   "outputs": [],
   "source": [
    "# Primera restricción. Construye numer0 y denom0.\n",
    "numer0 = 'TU_CÓDIGO_AQUÍ'\n",
    "denom0 = 'TU_CÓDIGO_AQUÍ'"
   ]
  },
  {
   "cell_type": "markdown",
   "metadata": {},
   "source": [
    "Solución:"
   ]
  },
  {
   "cell_type": "code",
   "execution_count": null,
   "metadata": {
    "jupyter": {
     "source_hidden": true
    }
   },
   "outputs": [],
   "source": [
    "numer0 = f - 1\n",
    "denom0 = X - 1"
   ]
  },
  {
   "cell_type": "markdown",
   "metadata": {},
   "source": [
    "Convéncete de que $f(x) - 1$ \"desaparece\" en $x=1$ asegurándote de que al evaluar este polinomio en $1$ se obtiene $0$:"
   ]
  },
  {
   "cell_type": "code",
   "execution_count": null,
   "metadata": {},
   "outputs": [],
   "source": [
    "'TU_CÓDIGO_AQUÍ'"
   ]
  },
  {
   "cell_type": "markdown",
   "metadata": {},
   "source": [
    "El hecho de que $f(x) - 1$ tenga una raíz en $1$ implica que es divisible por $(x - 1)$.\n",
    "Ejecute la siguiente celda para convencerte de que el resto de dividir `numer0` por `denom0` es $0$, y por lo tanto la división produce efectivamente un polinomio:"
   ]
  },
  {
   "cell_type": "code",
   "execution_count": null,
   "metadata": {
    "scrolled": true
   },
   "outputs": [],
   "source": [
    "numer0 % denom0"
   ]
  },
  {
   "cell_type": "markdown",
   "metadata": {},
   "source": [
    "Ejecute la siguiente celda para construir `p0`, el polinomio que representa la primera restricción, dividiendo `numer0` por `denom0`:"
   ]
  },
  {
   "cell_type": "code",
   "execution_count": null,
   "metadata": {},
   "outputs": [],
   "source": [
    "p0 = numer0 / denom0"
   ]
  },
  {
   "cell_type": "markdown",
   "metadata": {},
   "source": [
    "Ejecute la prueba:"
   ]
  },
  {
   "cell_type": "code",
   "execution_count": null,
   "metadata": {},
   "outputs": [],
   "source": [
    "assert p0(2718) == 2509888982\n",
    "print('Éxito!')"
   ]
  },
  {
   "cell_type": "markdown",
   "metadata": {},
   "source": [
    "## La Segunda Restricción\n",
    "\n",
    "Construye el polinomio `p1` que representa la segunda restricción, $p_1(x)= \\frac{f(x) - 2338775057}{x - g^{1022}}$, de forma similar: <br>"
   ]
  },
  {
   "cell_type": "code",
   "execution_count": null,
   "metadata": {},
   "outputs": [],
   "source": [
    "# Segunda restricción.\n",
    "p1 = 'TU_CÓDIGO_AQUÍ'"
   ]
  },
  {
   "cell_type": "markdown",
   "metadata": {},
   "source": [
    "Solución:"
   ]
  },
  {
   "cell_type": "code",
   "execution_count": null,
   "metadata": {
    "jupyter": {
     "source_hidden": true
    }
   },
   "outputs": [],
   "source": [
    "numer1 = f - 2338775057\n",
    "denom1 = X - g**1022\n",
    "p1 = numer1 / denom1"
   ]
  },
  {
   "cell_type": "markdown",
   "metadata": {},
   "source": [
    "Ejecute la prueba:"
   ]
  },
  {
   "cell_type": "code",
   "execution_count": null,
   "metadata": {},
   "outputs": [],
   "source": [
    "assert p1(5772) == 232961446\n",
    "print('Éxito!')"
   ]
  },
  {
   "cell_type": "markdown",
   "metadata": {},
   "source": [
    "## La Tercera Restricción - Concisión (Succinctness)\n",
    "\n",
    "La función racional de la última restricción es algo más complicada: <br>\n",
    "\n",
    "\n",
    "$$p_2(x) = \\frac{f(g^2 \\cdot x) - (f(g \\cdot x))^2 - (f(x))^2}{\\prod\\limits_{i=0}^{1020} (x-g^i)}$$\n",
    "\n",
    "cuyo denominador puede reescribirse, de modo que toda la expresión sea más fácil de calcular:<br>\n",
    "\n",
    "$$\\frac{f(g^2 \\cdot x) - (f(g \\cdot x))^2 - (f(x))^2}{\\frac{x^{1024} - 1}{(x-g^{1021})(x-g^{1022})(x-g^{1023})}}$$ <br>\n",
    "\n",
    "Esto se deriva de la igualdad\n",
    "\n",
    "$$\\prod\\limits_{i=0}^{1023} (x-g^i) = x^{1024} - 1$$\n",
    "\n",
    "Convéncete de esta igualdad utilizando la función `prod` que toma una lista y calcula su producto:"
   ]
  },
  {
   "cell_type": "code",
   "execution_count": null,
   "metadata": {},
   "outputs": [],
   "source": [
    "# Construye una lista `lst` de los términos lineales (x-g**i):\n",
    "lst = ['TU_CÓDIGO_AQUÍ']\n",
    "# Calcule el producto de `lst` y comprueba que efectivamente es el polinomio sucinto x**1024 - 1\n",
    "prod(lst)"
   ]
  },
  {
   "cell_type": "markdown",
   "metadata": {},
   "source": [
    "Solución:"
   ]
  },
  {
   "cell_type": "code",
   "execution_count": null,
   "metadata": {
    "jupyter": {
     "source_hidden": true
    }
   },
   "outputs": [],
   "source": [
    "lst = [(X - g**i) for i in range(1024)]\n",
    "prod(lst)"
   ]
  },
  {
   "cell_type": "markdown",
   "metadata": {},
   "source": [
    "Para más información, consulte una entrada de blog titulada [Arithmetization II](https://medium.com/starkware/arithmetization-ii-403c3b3f4355).\n",
    "\n",
    "Detengámonos un momento y veamos un ejemplo sencillo sobre cómo se componen los polinomios. Después generaremos la tercera restricción."
   ]
  },
  {
   "cell_type": "markdown",
   "metadata": {},
   "source": [
    "### Componiendo Polinomios (una desvío)\n",
    "\n",
    "Crea los dos polinomios $q(x) = 2x^2 +1$, $r(x) = x - 3$:"
   ]
  },
  {
   "cell_type": "code",
   "execution_count": null,
   "metadata": {},
   "outputs": [],
   "source": [
    "q = 2*X ** 2 + 1\n",
    "r = X - 3"
   ]
  },
  {
   "cell_type": "markdown",
   "metadata": {},
   "source": [
    "Componiendo $q$ en $r$ se obtiene un nuevo polinomio:<br>\n",
    "$q(r(x)) = 2(x-3)^2 + 1 = 2x^2-12x+19$\n",
    "<br>\n",
    "Ejecute la siguiente celda para crear un tercer polinomio `cmp` componiendo `q` sobre `r` y convéncete de que `cmp` es la composición de `q` y `r`:"
   ]
  },
  {
   "cell_type": "code",
   "execution_count": null,
   "metadata": {},
   "outputs": [],
   "source": [
    "cmp = q(r)\n",
    "cmp"
   ]
  },
  {
   "cell_type": "markdown",
   "metadata": {},
   "source": [
    "### Volviendo a las Restricciones Polinómicas\n",
    "Construye la tercera restricción `p2` de forma similar a la construcción de `p0` y `p1`, utilizando la composición polinómica. Durante el camino, compruebe que $g^{1020}$ es una raíz del **numerador** mientras $g^{1021}$ no lo es."
   ]
  },
  {
   "cell_type": "code",
   "execution_count": null,
   "metadata": {},
   "outputs": [],
   "source": [
    "p2 = 'TU_CÓDIGO_AQUÍ'"
   ]
  },
  {
   "cell_type": "markdown",
   "metadata": {},
   "source": [
    "Solución:"
   ]
  },
  {
   "cell_type": "code",
   "execution_count": null,
   "metadata": {
    "jupyter": {
     "source_hidden": true
    }
   },
   "outputs": [],
   "source": [
    "numer2 = f(g**2 * X) - f(g * X)**2 - f**2\n",
    "print(\"El numerador en g^1020 es\", numer2(g**1020))\n",
    "print(\"El numerador en g^1021 es\", numer2(g**1021))\n",
    "denom2 = (X**1024 - 1) / ((X - g**1021) * (X - g**1022) * (X - g**1023))\n",
    "\n",
    "p2 = numer2 / denom2"
   ]
  },
  {
   "cell_type": "markdown",
   "metadata": {},
   "source": [
    "Ejecute la prueba:"
   ]
  },
  {
   "cell_type": "code",
   "execution_count": null,
   "metadata": {
    "scrolled": true
   },
   "outputs": [],
   "source": [
    "assert p2.degree() == 1023, f'El grado de la tercera restricción es {p2.degree()} cuando debería ser 1023.'\n",
    "assert p2(31415) == 2090051528\n",
    "print('Éxito!')"
   ]
  },
  {
   "cell_type": "markdown",
   "metadata": {},
   "source": [
    "Ejecute la siguiente celda para observar los grados de los polinomios de restricción `p0`, `p1` y `p2`, todos menores que $1024$. Esto será importante en la siguiente parte."
   ]
  },
  {
   "cell_type": "code",
   "execution_count": null,
   "metadata": {},
   "outputs": [],
   "source": [
    "print('deg p0 =', p0.degree())\n",
    "print('deg p1 =', p1.degree())\n",
    "print('deg p2 =', p2.degree())"
   ]
  },
  {
   "cell_type": "markdown",
   "metadata": {},
   "source": [
    "### Paso 4 - Polinomio de Composición\n",
    "Recordemos que estamos traduciendo un problema de comprobación de la validez de tres restricciones polinómicas a la comprobación de que cada una de las funciones racionales $p_0, p_1, p_2$ son polinomios. <br>\n",
    "\n",
    "Nuestro protocolo utiliza un algoritmo llamado [FRI](https://eccc.weizmann.ac.il/report/2017/134/) para hacerlo, que se tratará en la siguiente parte. <br>\n",
    "Para que la prueba sea sucinta (corta), preferimos trabajar con una sola función racional en lugar de tres. Para ello, tomamos una combinación lineal aleatoria de $p_0, p_1, p_2$ a la que llamaremos **polinomio de composición** (composition polynomial en inglés, o CP si lo abreviamos):\n",
    "\n",
    "$$CP(x) = \\alpha_0 \\cdot p_0(x) + \\alpha_1 \\cdot p_1(x) + \\alpha_2 \\cdot  p_2(x)$$ <br>\n",
    "\n",
    "donde $\\alpha_0, \\alpha_1, \\alpha_2 $ son elementos aleatorios del field obtenidos del verificador o, en nuestro caso, del channel.\n",
    "\n",
    "Probando que (la función racional) $CP$ es un polinomio garantiza, con alta probabilidad, que cada uno de $p_0$, $p_1$, $p_2$ son a su vez polinomios.\n",
    "\n",
    "En la siguiente parte, generarás una prueba para un hecho equivalente. Pero primero, vamos a crear `CP` usando `Channel.receive_random_field_element` para obtener $\\alpha_i$: <br> \n",
    "   "
   ]
  },
  {
   "cell_type": "code",
   "execution_count": null,
   "metadata": {},
   "outputs": [],
   "source": [
    "# Tenga en cuenta que alpha0, alpha1, alpha2 tienen que ser tomados del channel en este orden.\n",
    "def get_CP(channel):\n",
    "    return 'TU_CÓDIGO_AQUÍ'"
   ]
  },
  {
   "cell_type": "markdown",
   "metadata": {},
   "source": [
    "Solución:"
   ]
  },
  {
   "cell_type": "code",
   "execution_count": null,
   "metadata": {
    "jupyter": {
     "source_hidden": true
    }
   },
   "outputs": [],
   "source": [
    "def get_CP(channel):\n",
    "    alpha0 = channel.receive_random_field_element()\n",
    "    alpha1 = channel.receive_random_field_element()\n",
    "    alpha2 = channel.receive_random_field_element()\n",
    "    return alpha0*p0 + alpha1*p1 + alpha2*p2"
   ]
  },
  {
   "cell_type": "markdown",
   "metadata": {},
   "source": [
    "Ejecute la prueba:"
   ]
  },
  {
   "cell_type": "code",
   "execution_count": null,
   "metadata": {},
   "outputs": [],
   "source": [
    "test_channel = Channel()\n",
    "CP_test = get_CP(test_channel)\n",
    "assert CP_test.degree() == 1023, f'El grado de cp es {CP_test.degree()} cuando debería ser 1023.'\n",
    "assert CP_test(2439804) == 838767343, f'cp(2439804) = {CP_test(2439804)}, cuando debería ser 838767343'\n",
    "print('Éxito!')"
   ]
  },
  {
   "cell_type": "markdown",
   "metadata": {},
   "source": [
    "### Compromiso (Commit) sobre el Polinomio de Composición\n",
    "Por último, evaluamos $cp$ sobre el dominio de evaluación (`eval_domain`), construimos un árbol de Merkle y enviamos su raíz. Esto es similar al compromiso sobre la Extensión de Bajo Grado de la traza (LDE trace), como hicimos al final de la parte 1."
   ]
  },
  {
   "cell_type": "code",
   "execution_count": null,
   "metadata": {},
   "outputs": [],
   "source": [
    "# Arregla esto. CP_eval es la evaluación de CP en todos los puntos del dominio. Una pista: consulte \"Evaluar en un Coset\"\n",
    "# en la parte 1.\n",
    "def CP_eval(channel):\n",
    "    CP = get_CP(channel)\n",
    "    return 'TU_CÓDIGO_AQUÍ'"
   ]
  },
  {
   "cell_type": "markdown",
   "metadata": {},
   "source": [
    "Solución:"
   ]
  },
  {
   "cell_type": "code",
   "execution_count": null,
   "metadata": {
    "jupyter": {
     "source_hidden": true
    }
   },
   "outputs": [],
   "source": [
    "def CP_eval(channel):\n",
    "    CP = get_CP(channel)\n",
    "    return [CP(d) for d in eval_domain]"
   ]
  },
  {
   "cell_type": "markdown",
   "metadata": {},
   "source": [
    "Construye un árbol de Merkle sobre la evaluación y envía su raíz por el channel."
   ]
  },
  {
   "cell_type": "code",
   "execution_count": null,
   "metadata": {},
   "outputs": [],
   "source": [
    "channel = Channel()\n",
    "CP_merkle = MerkleTree(['TU_CÓDIGO_AQUÍ']) # Arregla esta línea\n",
    "channel.send(CP_merkle.root)"
   ]
  },
  {
   "cell_type": "markdown",
   "metadata": {},
   "source": [
    "Solución:"
   ]
  },
  {
   "cell_type": "code",
   "execution_count": null,
   "metadata": {
    "jupyter": {
     "source_hidden": true
    }
   },
   "outputs": [],
   "source": [
    "channel = Channel()\n",
    "CP_merkle = MerkleTree(CP_eval(channel))\n",
    "channel.send(CP_merkle.root)"
   ]
  },
  {
   "cell_type": "markdown",
   "metadata": {},
   "source": [
    "Prueba tu código:"
   ]
  },
  {
   "cell_type": "code",
   "execution_count": null,
   "metadata": {},
   "outputs": [],
   "source": [
    "assert CP_merkle.root == 'a8c87ef9764af3fa005a1a2cf3ec8db50e754ccb655be7597ead15ed4a9110f1', 'La raíz del Árbol de Merkle es incorrecta.'\n",
    "print('Éxito!')"
   ]
  }
 ],
 "metadata": {
  "kernelspec": {
   "display_name": "Python 3 (ipykernel)",
   "language": "python",
   "name": "python3"
  },
  "language_info": {
   "codemirror_mode": {
    "name": "ipython",
    "version": 3
   },
   "file_extension": ".py",
   "mimetype": "text/x-python",
   "name": "python",
   "nbconvert_exporter": "python",
   "pygments_lexer": "ipython3",
   "version": "3.8.10"
  }
 },
 "nbformat": 4,
 "nbformat_minor": 4
}
